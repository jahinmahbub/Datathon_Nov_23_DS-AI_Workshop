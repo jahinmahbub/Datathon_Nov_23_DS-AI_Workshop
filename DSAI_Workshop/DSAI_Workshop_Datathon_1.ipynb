{
 "cells": [
  {
   "cell_type": "code",
   "execution_count": 1,
   "id": "14d102b8",
   "metadata": {},
   "outputs": [],
   "source": [
    "import pandas as pd"
   ]
  },
  {
   "cell_type": "code",
   "execution_count": 2,
   "id": "ea021e65",
   "metadata": {},
   "outputs": [],
   "source": [
    "df = pd.read_csv(\"spacetitanic.csv\")"
   ]
  },
  {
   "cell_type": "code",
   "execution_count": 8,
   "id": "d1501004",
   "metadata": {},
   "outputs": [
    {
     "data": {
      "text/plain": [
       "array(['Europa', 'Earth', 'Mars', nan], dtype=object)"
      ]
     },
     "execution_count": 8,
     "metadata": {},
     "output_type": "execute_result"
    }
   ],
   "source": [
    "df['HomePlanet'].unique()"
   ]
  },
  {
   "cell_type": "code",
   "execution_count": 9,
   "id": "8b049e8b",
   "metadata": {},
   "outputs": [
    {
     "data": {
      "text/html": [
       "<div>\n",
       "<style scoped>\n",
       "    .dataframe tbody tr th:only-of-type {\n",
       "        vertical-align: middle;\n",
       "    }\n",
       "\n",
       "    .dataframe tbody tr th {\n",
       "        vertical-align: top;\n",
       "    }\n",
       "\n",
       "    .dataframe thead th {\n",
       "        text-align: right;\n",
       "    }\n",
       "</style>\n",
       "<table border=\"1\" class=\"dataframe\">\n",
       "  <thead>\n",
       "    <tr style=\"text-align: right;\">\n",
       "      <th></th>\n",
       "      <th>PassengerId</th>\n",
       "      <th>HomePlanet</th>\n",
       "      <th>CryoSleep</th>\n",
       "      <th>Cabin</th>\n",
       "      <th>Destination</th>\n",
       "      <th>Age</th>\n",
       "      <th>VIP</th>\n",
       "      <th>RoomService</th>\n",
       "      <th>FoodCourt</th>\n",
       "      <th>ShoppingMall</th>\n",
       "      <th>Spa</th>\n",
       "      <th>VRDeck</th>\n",
       "      <th>Name</th>\n",
       "      <th>Transported</th>\n",
       "    </tr>\n",
       "  </thead>\n",
       "  <tbody>\n",
       "    <tr>\n",
       "      <th>0</th>\n",
       "      <td>0001_01</td>\n",
       "      <td>Europa</td>\n",
       "      <td>False</td>\n",
       "      <td>B/0/P</td>\n",
       "      <td>TRAPPIST-1e</td>\n",
       "      <td>39.0</td>\n",
       "      <td>False</td>\n",
       "      <td>0.0</td>\n",
       "      <td>0.0</td>\n",
       "      <td>0.0</td>\n",
       "      <td>0.0</td>\n",
       "      <td>0.0</td>\n",
       "      <td>Maham Ofracculy</td>\n",
       "      <td>False</td>\n",
       "    </tr>\n",
       "    <tr>\n",
       "      <th>1</th>\n",
       "      <td>0002_01</td>\n",
       "      <td>Earth</td>\n",
       "      <td>False</td>\n",
       "      <td>F/0/S</td>\n",
       "      <td>TRAPPIST-1e</td>\n",
       "      <td>24.0</td>\n",
       "      <td>False</td>\n",
       "      <td>109.0</td>\n",
       "      <td>9.0</td>\n",
       "      <td>25.0</td>\n",
       "      <td>549.0</td>\n",
       "      <td>44.0</td>\n",
       "      <td>Juanna Vines</td>\n",
       "      <td>True</td>\n",
       "    </tr>\n",
       "    <tr>\n",
       "      <th>2</th>\n",
       "      <td>0003_01</td>\n",
       "      <td>Europa</td>\n",
       "      <td>False</td>\n",
       "      <td>A/0/S</td>\n",
       "      <td>TRAPPIST-1e</td>\n",
       "      <td>58.0</td>\n",
       "      <td>True</td>\n",
       "      <td>43.0</td>\n",
       "      <td>3576.0</td>\n",
       "      <td>0.0</td>\n",
       "      <td>6715.0</td>\n",
       "      <td>49.0</td>\n",
       "      <td>Altark Susent</td>\n",
       "      <td>False</td>\n",
       "    </tr>\n",
       "    <tr>\n",
       "      <th>3</th>\n",
       "      <td>0003_02</td>\n",
       "      <td>Europa</td>\n",
       "      <td>False</td>\n",
       "      <td>A/0/S</td>\n",
       "      <td>TRAPPIST-1e</td>\n",
       "      <td>33.0</td>\n",
       "      <td>False</td>\n",
       "      <td>0.0</td>\n",
       "      <td>1283.0</td>\n",
       "      <td>371.0</td>\n",
       "      <td>3329.0</td>\n",
       "      <td>193.0</td>\n",
       "      <td>Solam Susent</td>\n",
       "      <td>False</td>\n",
       "    </tr>\n",
       "    <tr>\n",
       "      <th>4</th>\n",
       "      <td>0004_01</td>\n",
       "      <td>Earth</td>\n",
       "      <td>False</td>\n",
       "      <td>F/1/S</td>\n",
       "      <td>TRAPPIST-1e</td>\n",
       "      <td>16.0</td>\n",
       "      <td>False</td>\n",
       "      <td>303.0</td>\n",
       "      <td>70.0</td>\n",
       "      <td>151.0</td>\n",
       "      <td>565.0</td>\n",
       "      <td>2.0</td>\n",
       "      <td>Willy Santantines</td>\n",
       "      <td>True</td>\n",
       "    </tr>\n",
       "    <tr>\n",
       "      <th>...</th>\n",
       "      <td>...</td>\n",
       "      <td>...</td>\n",
       "      <td>...</td>\n",
       "      <td>...</td>\n",
       "      <td>...</td>\n",
       "      <td>...</td>\n",
       "      <td>...</td>\n",
       "      <td>...</td>\n",
       "      <td>...</td>\n",
       "      <td>...</td>\n",
       "      <td>...</td>\n",
       "      <td>...</td>\n",
       "      <td>...</td>\n",
       "      <td>...</td>\n",
       "    </tr>\n",
       "    <tr>\n",
       "      <th>8688</th>\n",
       "      <td>9276_01</td>\n",
       "      <td>Europa</td>\n",
       "      <td>False</td>\n",
       "      <td>A/98/P</td>\n",
       "      <td>55 Cancri e</td>\n",
       "      <td>41.0</td>\n",
       "      <td>True</td>\n",
       "      <td>0.0</td>\n",
       "      <td>6819.0</td>\n",
       "      <td>0.0</td>\n",
       "      <td>1643.0</td>\n",
       "      <td>74.0</td>\n",
       "      <td>Gravior Noxnuther</td>\n",
       "      <td>False</td>\n",
       "    </tr>\n",
       "    <tr>\n",
       "      <th>8689</th>\n",
       "      <td>9278_01</td>\n",
       "      <td>Earth</td>\n",
       "      <td>True</td>\n",
       "      <td>G/1499/S</td>\n",
       "      <td>PSO J318.5-22</td>\n",
       "      <td>18.0</td>\n",
       "      <td>False</td>\n",
       "      <td>0.0</td>\n",
       "      <td>0.0</td>\n",
       "      <td>0.0</td>\n",
       "      <td>0.0</td>\n",
       "      <td>0.0</td>\n",
       "      <td>Kurta Mondalley</td>\n",
       "      <td>False</td>\n",
       "    </tr>\n",
       "    <tr>\n",
       "      <th>8690</th>\n",
       "      <td>9279_01</td>\n",
       "      <td>Earth</td>\n",
       "      <td>False</td>\n",
       "      <td>G/1500/S</td>\n",
       "      <td>TRAPPIST-1e</td>\n",
       "      <td>26.0</td>\n",
       "      <td>False</td>\n",
       "      <td>0.0</td>\n",
       "      <td>0.0</td>\n",
       "      <td>1872.0</td>\n",
       "      <td>1.0</td>\n",
       "      <td>0.0</td>\n",
       "      <td>Fayey Connon</td>\n",
       "      <td>True</td>\n",
       "    </tr>\n",
       "    <tr>\n",
       "      <th>8691</th>\n",
       "      <td>9280_01</td>\n",
       "      <td>Europa</td>\n",
       "      <td>False</td>\n",
       "      <td>E/608/S</td>\n",
       "      <td>55 Cancri e</td>\n",
       "      <td>32.0</td>\n",
       "      <td>False</td>\n",
       "      <td>0.0</td>\n",
       "      <td>1049.0</td>\n",
       "      <td>0.0</td>\n",
       "      <td>353.0</td>\n",
       "      <td>3235.0</td>\n",
       "      <td>Celeon Hontichre</td>\n",
       "      <td>False</td>\n",
       "    </tr>\n",
       "    <tr>\n",
       "      <th>8692</th>\n",
       "      <td>9280_02</td>\n",
       "      <td>Europa</td>\n",
       "      <td>False</td>\n",
       "      <td>E/608/S</td>\n",
       "      <td>TRAPPIST-1e</td>\n",
       "      <td>44.0</td>\n",
       "      <td>False</td>\n",
       "      <td>126.0</td>\n",
       "      <td>4688.0</td>\n",
       "      <td>0.0</td>\n",
       "      <td>0.0</td>\n",
       "      <td>12.0</td>\n",
       "      <td>Propsh Hontichre</td>\n",
       "      <td>True</td>\n",
       "    </tr>\n",
       "  </tbody>\n",
       "</table>\n",
       "<p>8693 rows × 14 columns</p>\n",
       "</div>"
      ],
      "text/plain": [
       "     PassengerId HomePlanet CryoSleep     Cabin    Destination   Age    VIP  \\\n",
       "0        0001_01     Europa     False     B/0/P    TRAPPIST-1e  39.0  False   \n",
       "1        0002_01      Earth     False     F/0/S    TRAPPIST-1e  24.0  False   \n",
       "2        0003_01     Europa     False     A/0/S    TRAPPIST-1e  58.0   True   \n",
       "3        0003_02     Europa     False     A/0/S    TRAPPIST-1e  33.0  False   \n",
       "4        0004_01      Earth     False     F/1/S    TRAPPIST-1e  16.0  False   \n",
       "...          ...        ...       ...       ...            ...   ...    ...   \n",
       "8688     9276_01     Europa     False    A/98/P    55 Cancri e  41.0   True   \n",
       "8689     9278_01      Earth      True  G/1499/S  PSO J318.5-22  18.0  False   \n",
       "8690     9279_01      Earth     False  G/1500/S    TRAPPIST-1e  26.0  False   \n",
       "8691     9280_01     Europa     False   E/608/S    55 Cancri e  32.0  False   \n",
       "8692     9280_02     Europa     False   E/608/S    TRAPPIST-1e  44.0  False   \n",
       "\n",
       "      RoomService  FoodCourt  ShoppingMall     Spa  VRDeck               Name  \\\n",
       "0             0.0        0.0           0.0     0.0     0.0    Maham Ofracculy   \n",
       "1           109.0        9.0          25.0   549.0    44.0       Juanna Vines   \n",
       "2            43.0     3576.0           0.0  6715.0    49.0      Altark Susent   \n",
       "3             0.0     1283.0         371.0  3329.0   193.0       Solam Susent   \n",
       "4           303.0       70.0         151.0   565.0     2.0  Willy Santantines   \n",
       "...           ...        ...           ...     ...     ...                ...   \n",
       "8688          0.0     6819.0           0.0  1643.0    74.0  Gravior Noxnuther   \n",
       "8689          0.0        0.0           0.0     0.0     0.0    Kurta Mondalley   \n",
       "8690          0.0        0.0        1872.0     1.0     0.0       Fayey Connon   \n",
       "8691          0.0     1049.0           0.0   353.0  3235.0   Celeon Hontichre   \n",
       "8692        126.0     4688.0           0.0     0.0    12.0   Propsh Hontichre   \n",
       "\n",
       "      Transported  \n",
       "0           False  \n",
       "1            True  \n",
       "2           False  \n",
       "3           False  \n",
       "4            True  \n",
       "...           ...  \n",
       "8688        False  \n",
       "8689        False  \n",
       "8690         True  \n",
       "8691        False  \n",
       "8692         True  \n",
       "\n",
       "[8693 rows x 14 columns]"
      ]
     },
     "execution_count": 9,
     "metadata": {},
     "output_type": "execute_result"
    }
   ],
   "source": [
    "df"
   ]
  },
  {
   "cell_type": "code",
   "execution_count": 10,
   "id": "44f80a1c",
   "metadata": {},
   "outputs": [],
   "source": [
    "home_planet_counts = df['HomePlanet'].value_counts()"
   ]
  },
  {
   "cell_type": "code",
   "execution_count": 11,
   "id": "420ca87d",
   "metadata": {},
   "outputs": [],
   "source": [
    "most_passengers_home_planet = home_planet_counts.idxmax()"
   ]
  },
  {
   "cell_type": "code",
   "execution_count": 12,
   "id": "7814c9c9",
   "metadata": {},
   "outputs": [],
   "source": [
    "most_passengers_count = home_planet_counts.max()\n"
   ]
  },
  {
   "cell_type": "code",
   "execution_count": 13,
   "id": "30e94ebd",
   "metadata": {},
   "outputs": [
    {
     "name": "stdout",
     "output_type": "stream",
     "text": [
      "The home planet with the most passengers is Earth with 4602 passengers.\n"
     ]
    }
   ],
   "source": [
    "print(f\"The home planet with the most passengers is {most_passengers_home_planet} with {most_passengers_count} passengers.\")"
   ]
  },
  {
   "cell_type": "code",
   "execution_count": 20,
   "id": "70b0f758",
   "metadata": {},
   "outputs": [
    {
     "name": "stdout",
     "output_type": "stream",
     "text": [
      "The 'HomePlanet' column has 201 missing values.\n"
     ]
    }
   ],
   "source": [
    "# Check for missing values in the 'HomePlanet' column\n",
    "missing_values_home_planet = df['HomePlanet'].isnull().sum()\n",
    "\n",
    "# Display the number of missing values\n",
    "print(f\"The 'HomePlanet' column has {missing_values_home_planet} missing values.\")\n"
   ]
  },
  {
   "cell_type": "code",
   "execution_count": 21,
   "id": "5d564537",
   "metadata": {},
   "outputs": [
    {
     "name": "stdout",
     "output_type": "stream",
     "text": [
      "The number of passengers in cryosleep during transport is: 3037\n"
     ]
    }
   ],
   "source": [
    "# Assuming the 'CryoSleep' column contains information about whether a passenger was in cryosleep (True/False)\n",
    "cryosleep_passengers_count = df['CryoSleep'].sum()\n",
    "\n",
    "# Display the number of passengers in cryosleep\n",
    "print(f\"The number of passengers in cryosleep during transport is: {cryosleep_passengers_count}\")\n"
   ]
  },
  {
   "cell_type": "code",
   "execution_count": 22,
   "id": "328e6974",
   "metadata": {},
   "outputs": [
    {
     "name": "stdout",
     "output_type": "stream",
     "text": [
      "The average amount spent at the food court (excluding people who spent 0 dollars) is: $1276.44\n"
     ]
    }
   ],
   "source": [
    "# Assuming the 'FoodCourt' column contains information about the amount spent at the food court\n",
    "# and is in numeric format (float or int)\n",
    "\n",
    "# Filter the DataFrame to exclude entries where the amount spent is 0\n",
    "non_zero_foodcourt_spending = df[df['FoodCourt'] > 0]\n",
    "\n",
    "# Calculate the average amount spent at the food court\n",
    "average_foodcourt_spending = non_zero_foodcourt_spending['FoodCourt'].mean()\n",
    "\n",
    "# Display the result\n",
    "print(f\"The average amount spent at the food court (excluding people who spent 0 dollars) is: ${average_foodcourt_spending:.2f}\")\n"
   ]
  },
  {
   "cell_type": "code",
   "execution_count": 23,
   "id": "30629018",
   "metadata": {},
   "outputs": [
    {
     "name": "stdout",
     "output_type": "stream",
     "text": [
      "The ratio of 'Transported' (TRUE) to the total number is: 0.5036\n"
     ]
    }
   ],
   "source": [
    "# Assuming the 'Transported' column contains boolean values (True/False)\n",
    "transported_counts = df['Transported'].value_counts()\n",
    "\n",
    "# Get the count of True (Transported) and False (Not Transported)\n",
    "transported_true_count = transported_counts.get(True, 0)\n",
    "transported_false_count = transported_counts.get(False, 0)\n",
    "\n",
    "# Calculate the ratio of \"Transported\" (TRUE) to the total number\n",
    "ratio_transported_to_total = transported_true_count / len(df)\n",
    "\n",
    "# Display the result rounded to four decimals\n",
    "print(f\"The ratio of 'Transported' (TRUE) to the total number is: {ratio_transported_to_total:.4f}\")\n"
   ]
  },
  {
   "cell_type": "code",
   "execution_count": 24,
   "id": "20ea2983",
   "metadata": {},
   "outputs": [
    {
     "name": "stdout",
     "output_type": "stream",
     "text": [
      "Destination\tNumber of People\n",
      "---------------------------------\n",
      "TRAPPIST-1e\t\t5915\n",
      "55 Cancri e\t\t1800\n",
      "PSO J318.5-22\t\t796\n"
     ]
    }
   ],
   "source": [
    "# Assuming the 'Destination' column contains information about the destination\n",
    "destination_counts = df['Destination'].value_counts()\n",
    "\n",
    "# Display the list of destinations and the number of people going to each destination\n",
    "print(\"Destination\\tNumber of People\")\n",
    "print(\"---------------------------------\")\n",
    "for destination, count in destination_counts.items():\n",
    "    print(f\"{destination}\\t\\t{count}\")\n"
   ]
  },
  {
   "cell_type": "code",
   "execution_count": 25,
   "id": "a4944a85",
   "metadata": {},
   "outputs": [
    {
     "name": "stdout",
     "output_type": "stream",
     "text": [
      "The probability of children/adolescents being transported is: 0.6075\n"
     ]
    }
   ],
   "source": [
    "# Define the age range for children/adolescents\n",
    "child_adolescent_age_range = 18\n",
    "\n",
    "# Filter the DataFrame to include only passengers in the defined age range\n",
    "children_adolescents_df = df[df['Age'] <= child_adolescent_age_range]\n",
    "\n",
    "# Calculate the total number of transported children/adolescents\n",
    "transported_children_adolescents = children_adolescents_df['Transported'].sum()\n",
    "\n",
    "# Calculate the total number of passengers in the defined age range\n",
    "total_children_adolescents = len(children_adolescents_df)\n",
    "\n",
    "# Calculate the probability\n",
    "probability_transported_children_adolescents = transported_children_adolescents / total_children_adolescents\n",
    "\n",
    "# Display the result rounded to four decimals\n",
    "print(f\"The probability of children/adolescents being transported is: {probability_transported_children_adolescents:.4f}\")\n"
   ]
  },
  {
   "cell_type": "code",
   "execution_count": 26,
   "id": "b6924d63",
   "metadata": {},
   "outputs": [
    {
     "name": "stdout",
     "output_type": "stream",
     "text": [
      "Home Planet\tPercentage of People\n",
      "---------------------------------\n",
      "Earth\t\t52.94%\n",
      "Europa\t\t24.51%\n",
      "Mars\t\t20.23%\n"
     ]
    }
   ],
   "source": [
    "# Assuming the 'HomePlanet' column contains information about the home planet\n",
    "home_planet_counts = df['HomePlanet'].value_counts()\n",
    "\n",
    "# Calculate the total number of passengers\n",
    "total_passengers = len(df)\n",
    "\n",
    "# Calculate the percentage of people per home planet\n",
    "percentage_per_home_planet = (home_planet_counts / total_passengers) * 100\n",
    "\n",
    "# Display the result\n",
    "print(\"Home Planet\\tPercentage of People\")\n",
    "print(\"---------------------------------\")\n",
    "for home_planet, percentage in percentage_per_home_planet.items():\n",
    "    print(f\"{home_planet}\\t\\t{percentage:.2f}%\")\n"
   ]
  },
  {
   "cell_type": "code",
   "execution_count": 32,
   "id": "cebcf789",
   "metadata": {},
   "outputs": [
    {
     "name": "stdout",
     "output_type": "stream",
     "text": [
      "The correlation coefficient between 'VIP' and 'Transported' is: -0.0246\n"
     ]
    }
   ],
   "source": [
    "# Assuming 'VIP' and 'Transported' are binary columns indicating VIP status and transportation status\n",
    "# Convert the columns to boolean if needed\n",
    "df['VIP'] = df['VIP'].astype(bool)\n",
    "df['Transported'] = df['Transported'].astype(bool)\n",
    "\n",
    "# Calculate the correlation coefficient\n",
    "correlation_coefficient = df['VIP'].corr(df['Transported'])\n",
    "\n",
    "# Display the correlation coefficient rounded to four decimals\n",
    "print(f\"The correlation coefficient between 'VIP' and 'Transported' is: {correlation_coefficient:.4f}\")\n"
   ]
  },
  {
   "cell_type": "code",
   "execution_count": 33,
   "id": "92e650b0",
   "metadata": {},
   "outputs": [
    {
     "name": "stdout",
     "output_type": "stream",
     "text": [
      "Original Median Age: 27.0\n",
      "New Median Age (after replacing NaN values): 27.0\n"
     ]
    }
   ],
   "source": [
    "# Find the median of the 'Age' column\n",
    "original_median_age = df['Age'].median()\n",
    "\n",
    "# Replace NaN values in the 'Age' column with the median\n",
    "df['Age'].fillna(original_median_age, inplace=True)\n",
    "\n",
    "# Find the new median after replacing NaN values\n",
    "new_median_age = df['Age'].median()\n",
    "\n",
    "# Display the original and new median values\n",
    "print(f\"Original Median Age: {original_median_age}\")\n",
    "print(f\"New Median Age (after replacing NaN values): {new_median_age}\")\n"
   ]
  },
  {
   "cell_type": "code",
   "execution_count": 34,
   "id": "a181eb2e",
   "metadata": {},
   "outputs": [
    {
     "name": "stdout",
     "output_type": "stream",
     "text": [
      "The column with the most missing values is 'CryoSleep' with 2.50% missing values.\n"
     ]
    }
   ],
   "source": [
    "# Find the number of missing values for each column\n",
    "missing_values = df.isnull().sum()\n",
    "\n",
    "# Calculate the percentage of missing values for each column\n",
    "percentage_missing_values = (missing_values / len(df)) * 100\n",
    "\n",
    "# Find the column with the most missing values\n",
    "column_with_most_missing_values = percentage_missing_values.idxmax()\n",
    "most_missing_percentage = percentage_missing_values.max()\n",
    "\n",
    "# Display the result\n",
    "print(f\"The column with the most missing values is '{column_with_most_missing_values}' \"\n",
    "      f\"with {most_missing_percentage:.2f}% missing values.\")\n"
   ]
  },
  {
   "cell_type": "code",
   "execution_count": 35,
   "id": "18125478",
   "metadata": {},
   "outputs": [
    {
     "name": "stdout",
     "output_type": "stream",
     "text": [
      "The column with the highest standard deviation is 'FoodCourt' with a standard deviation of 1611.4892.\n"
     ]
    }
   ],
   "source": [
    "# Select only numeric columns\n",
    "numeric_columns = df.select_dtypes(include='number')\n",
    "\n",
    "# Find the column with the highest standard deviation\n",
    "column_with_highest_std = numeric_columns.std().idxmax()\n",
    "highest_std_value = numeric_columns.std().max()\n",
    "\n",
    "# Display the result\n",
    "print(f\"The column with the highest standard deviation is '{column_with_highest_std}' \"\n",
    "      f\"with a standard deviation of {highest_std_value:.4f}.\")\n"
   ]
  },
  {
   "cell_type": "code",
   "execution_count": 36,
   "id": "1c5423c6",
   "metadata": {},
   "outputs": [
    {
     "data": {
      "image/png": "[encoded data removed]",
      "text/plain": [
       "<Figure size 1000x600 with 1 Axes>"
      ]
     },
     "metadata": {},
     "output_type": "display_data"
    }
   ],
   "source": [
    "import seaborn as sns\n",
    "import matplotlib.pyplot as plt\n",
    "\n",
    "# Assuming 'Age' is the column you want to plot\n",
    "sns.set(style=\"whitegrid\")\n",
    "plt.figure(figsize=(10, 6))\n",
    "\n",
    "# Create a histogram using Seaborn\n",
    "sns.histplot(df['Age'], bins=30, kde=False, color='skyblue')\n",
    "\n",
    "# Add labels and title\n",
    "plt.xlabel('Age')\n",
    "plt.ylabel('Count')\n",
    "plt.title('Histogram of Age')\n",
    "\n",
    "# Show the plot\n",
    "plt.show()\n"
   ]
  },
  {
   "cell_type": "code",
   "execution_count": 38,
   "id": "96ae7e93",
   "metadata": {},
   "outputs": [
    {
     "data": {
      "image/png": "[encoded data removed]",
      "text/plain": [
       "<Figure size 1200x1000 with 2 Axes>"
      ]
     },
     "metadata": {},
     "output_type": "display_data"
    }
   ],
   "source": [
    "import seaborn as sns\n",
    "import matplotlib.pyplot as plt\n",
    "\n",
    "# Select only numeric columns\n",
    "numeric_columns = df.select_dtypes(include='number')\n",
    "\n",
    "# Calculate the correlation matrix\n",
    "correlation_matrix = numeric_columns.corr()\n",
    "\n",
    "# Set up the matplotlib figure\n",
    "plt.figure(figsize=(12, 10))\n",
    "\n",
    "# Create a heatmap using Seaborn\n",
    "sns.heatmap(correlation_matrix, annot=True, cmap='coolwarm', fmt=\".2f\")\n",
    "\n",
    "# Add title\n",
    "plt.title('Heatmap of Correlation Matrix')\n",
    "\n",
    "# Show the plot\n",
    "plt.show()\n"
   ]
  },
  {
   "cell_type": "code",
   "execution_count": 39,
   "id": "97d8ffa8",
   "metadata": {},
   "outputs": [
    {
     "data": {
      "image/png": "[encoded data removed]",
      "text/plain": [
       "<Figure size 600x600 with 1 Axes>"
      ]
     },
     "metadata": {},
     "output_type": "display_data"
    }
   ],
   "source": [
    "import seaborn as sns\n",
    "import matplotlib.pyplot as plt\n",
    "\n",
    "# Assuming 'Transported' is the column you want to visualize\n",
    "sns.set(style=\"whitegrid\")\n",
    "plt.figure(figsize=(6, 6))\n",
    "\n",
    "# Create a countplot using Seaborn\n",
    "sns.countplot(x='Transported', data=df, palette=\"pastel\")\n",
    "\n",
    "# Add title\n",
    "plt.title('Distribution of Transportation')\n",
    "\n",
    "# Show the plot\n",
    "plt.show()\n"
   ]
  },
  {
   "cell_type": "code",
   "execution_count": 40,
   "id": "bb9abbf5",
   "metadata": {},
   "outputs": [
    {
     "data": {
      "image/png": "[encoded data removed]",
      "text/plain": [
       "<Figure size 1400x800 with 1 Axes>"
      ]
     },
     "metadata": {},
     "output_type": "display_data"
    }
   ],
   "source": [
    "import seaborn as sns\n",
    "import matplotlib.pyplot as plt\n",
    "\n",
    "# Assuming 'HomePlanet' and 'Transported' are the columns you want to visualize\n",
    "sns.set(style=\"whitegrid\")\n",
    "plt.figure(figsize=(14, 8))\n",
    "\n",
    "# Create a countplot using Seaborn\n",
    "sns.countplot(x='HomePlanet', hue='Transported', data=df, palette=\"Set2\")\n",
    "\n",
    "# Add title and labels\n",
    "plt.title('Count of Transportation by Home Planet')\n",
    "plt.xlabel('Home Planet')\n",
    "plt.ylabel('Count')\n",
    "\n",
    "# Rotate x-axis labels for better readability\n",
    "plt.xticks(rotation=45, ha='right')\n",
    "\n",
    "# Show the plot\n",
    "plt.legend(title='Transported', loc='upper right')\n",
    "plt.show()\n"
   ]
  },
  {
   "cell_type": "code",
   "execution_count": 42,
   "id": "14ea9eb5",
   "metadata": {},
   "outputs": [
    {
     "name": "stdout",
     "output_type": "stream",
     "text": [
      "      HomePlanet    VIP   Age  Transported  Predicted_Transported\n",
      "4              0  False  16.0         True                  False\n",
      "200            0  False  16.0        False                  False\n",
      "208            2  False  16.0        False                   True\n",
      "212            2  False  16.0         True                   True\n",
      "272            0  False  16.0        False                  False\n",
      "...          ...    ...   ...          ...                    ...\n",
      "8328           0  False  16.0         True                  False\n",
      "8416           1  False  16.0         True                   True\n",
      "8477           0  False  16.0        False                  False\n",
      "8540           0  False  16.0        False                  False\n",
      "8671           0  False  16.0         True                  False\n",
      "\n",
      "[140 rows x 5 columns]\n"
     ]
    }
   ],
   "source": [
    "# Filter data for non-VIP 16-year-old Earthlings\n",
    "prediction_data = selected_data[(selected_data['Age'] == 16) & (~selected_data['VIP'])].copy()\n",
    "\n",
    "# Make predictions for the non-VIP 16-year-old Earthlings\n",
    "predictions = model.predict(prediction_data[['HomePlanet', 'VIP', 'Age']])\n",
    "\n",
    "# Display the predictions\n",
    "prediction_data['Predicted_Transported'] = predictions\n",
    "print(prediction_data[['HomePlanet', 'VIP', 'Age', 'Transported', 'Predicted_Transported']])\n"
   ]
  },
  {
   "cell_type": "code",
   "execution_count": 43,
   "id": "c96bd8ad",
   "metadata": {},
   "outputs": [
    {
     "name": "stdout",
     "output_type": "stream",
     "text": [
      "Test Accuracy: 57.68%\n"
     ]
    }
   ],
   "source": [
    "# Evaluate the accuracy on the test set\n",
    "test_predictions = model.predict(X_test)\n",
    "test_accuracy = accuracy_score(y_test, test_predictions)\n",
    "print(f\"Test Accuracy: {test_accuracy:.2%}\")\n"
   ]
  },
  {
   "cell_type": "code",
   "execution_count": 45,
   "id": "6ef576f8",
   "metadata": {},
   "outputs": [
    {
     "ename": "TypeError",
     "evalue": "LabelEncoder() takes no arguments",
     "output_type": "error",
     "traceback": [
      "\u001b[1;31m---------------------------------------------------------------------------\u001b[0m",
      "\u001b[1;31mTypeError\u001b[0m                                 Traceback (most recent call last)",
      "Cell \u001b[1;32mIn[45], line 11\u001b[0m\n\u001b[0;32m      8\u001b[0m selected_data \u001b[38;5;241m=\u001b[39m df[selected_columns]\u001b[38;5;241m.\u001b[39mcopy()\n\u001b[0;32m     10\u001b[0m \u001b[38;5;66;03m# Encode categorical variables using LabelEncoder with handle_unknown='use_encoded_value'\u001b[39;00m\n\u001b[1;32m---> 11\u001b[0m label_encoder \u001b[38;5;241m=\u001b[39m LabelEncoder(handle_unknown\u001b[38;5;241m=\u001b[39m\u001b[38;5;124m'\u001b[39m\u001b[38;5;124muse_encoded_value\u001b[39m\u001b[38;5;124m'\u001b[39m, unknown_value\u001b[38;5;241m=\u001b[39m\u001b[38;5;241m-\u001b[39m\u001b[38;5;241m1\u001b[39m)\n\u001b[0;32m     12\u001b[0m selected_data[\u001b[38;5;124m'\u001b[39m\u001b[38;5;124mHomePlanet\u001b[39m\u001b[38;5;124m'\u001b[39m] \u001b[38;5;241m=\u001b[39m label_encoder\u001b[38;5;241m.\u001b[39mfit_transform(selected_data[\u001b[38;5;124m'\u001b[39m\u001b[38;5;124mHomePlanet\u001b[39m\u001b[38;5;124m'\u001b[39m])\n\u001b[0;32m     14\u001b[0m \u001b[38;5;66;03m# Separate features (X) and target variable (y)\u001b[39;00m\n",
      "\u001b[1;31mTypeError\u001b[0m: LabelEncoder() takes no arguments"
     ]
    }
   ],
   "source": [
    "import pandas as pd\n",
    "from sklearn.model_selection import train_test_split\n",
    "from sklearn.tree import DecisionTreeClassifier\n",
    "from sklearn.preprocessing import LabelEncoder\n",
    "\n",
    "# Assuming 'HomePlanet', 'VIP', 'Age', and 'Transported' are the relevant columns\n",
    "selected_columns = ['HomePlanet', 'VIP', 'Age', 'Transported']\n",
    "selected_data = df[selected_columns].copy()\n",
    "\n",
    "# Encode categorical variables using LabelEncoder with handle_unknown='use_encoded_value'\n",
    "label_encoder = LabelEncoder(handle_unknown='use_encoded_value', unknown_value=-1)\n",
    "selected_data['HomePlanet'] = label_encoder.fit_transform(selected_data['HomePlanet'])\n",
    "\n",
    "# Separate features (X) and target variable (y)\n",
    "X = selected_data[['HomePlanet', 'VIP', 'Age']]\n",
    "y = selected_data['Transported']\n",
    "\n",
    "# Split the data into training and testing sets\n",
    "X_train, X_test, y_train, y_test = train_test_split(X, y, test_size=0.2, random_state=42)\n",
    "\n",
    "# Train a decision tree classifier\n",
    "model = DecisionTreeClassifier(random_state=42)\n",
    "model.fit(X_train, y_train)\n",
    "\n",
    "# Make predictions for the non-VIP 32-year-old Europi\n",
    "new_data = pd.DataFrame({'HomePlanet': ['Europi'], 'VIP': [False], 'Age': [32]})\n",
    "new_data['HomePlanet'] = label_encoder.transform(new_data['HomePlanet'])\n",
    "\n",
    "prediction = model.predict(new_data[['HomePlanet', 'VIP', 'Age']])\n",
    "\n",
    "# Display the prediction\n",
    "print(f\"Predicted Transportation for a non-VIP 32-year-old Europi: {prediction[0]}\")\n"
   ]
  },
  {
   "cell_type": "code",
   "execution_count": 49,
   "id": "136dc72b",
   "metadata": {},
   "outputs": [
    {
     "name": "stdout",
     "output_type": "stream",
     "text": [
      "Predicted Transportation for a non-VIP 32-year-old Europi: False\n"
     ]
    },
    {
     "name": "stderr",
     "output_type": "stream",
     "text": [
      "C:\\ProgramData\\anaconda3\\Lib\\site-packages\\sklearn\\preprocessing\\_encoders.py:972: FutureWarning: `sparse` was renamed to `sparse_output` in version 1.2 and will be removed in 1.4. `sparse_output` is ignored unless you leave `sparse` to its default value.\n",
      "  warnings.warn(\n"
     ]
    }
   ],
   "source": [
    "import pandas as pd\n",
    "from sklearn.model_selection import train_test_split\n",
    "from sklearn.tree import DecisionTreeClassifier\n",
    "from sklearn.preprocessing import OneHotEncoder\n",
    "from sklearn.impute import SimpleImputer\n",
    "from sklearn.compose import ColumnTransformer\n",
    "from sklearn.pipeline import Pipeline\n",
    "\n",
    "# Assuming 'HomePlanet', 'VIP', 'Age', and 'Transported' are the relevant columns\n",
    "selected_columns = ['HomePlanet', 'VIP', 'Age', 'Transported']\n",
    "selected_data = df[selected_columns].copy()\n",
    "\n",
    "# Separate features (X) and target variable (y)\n",
    "X = selected_data[['HomePlanet', 'VIP', 'Age']]\n",
    "y = selected_data['Transported']\n",
    "\n",
    "# Split the data into training and testing sets\n",
    "X_train, X_test, y_train, y_test = train_test_split(X, y, test_size=0.2, random_state=42)\n",
    "\n",
    "# Define the column transformer for encoding categorical variables\n",
    "preprocessor = ColumnTransformer(\n",
    "    transformers=[\n",
    "        ('encoder', OneHotEncoder(handle_unknown='ignore', sparse=False), ['HomePlanet']),\n",
    "        ('imputer', SimpleImputer(strategy='constant', fill_value=-1), ['Age'])  # Handling missing values in 'Age'\n",
    "    ],\n",
    "    remainder='passthrough'\n",
    ")\n",
    "\n",
    "# Define the pipeline with the column transformer and classifier\n",
    "pipeline = Pipeline([\n",
    "    ('preprocessor', preprocessor),\n",
    "    ('classifier', DecisionTreeClassifier(random_state=42))\n",
    "])\n",
    "\n",
    "# Train the model using the pipeline\n",
    "pipeline.fit(X_train, y_train)\n",
    "\n",
    "# Make predictions for the non-VIP 32-year-old Europi\n",
    "new_data = pd.DataFrame({'HomePlanet': ['Europi'], 'VIP': [False], 'Age': [32]})\n",
    "prediction = pipeline.predict(new_data)\n",
    "\n",
    "# Display the prediction\n",
    "print(f\"Predicted Transportation for a non-VIP 32-year-old Europi: {prediction[0]}\")\n"
   ]
  },
  {
   "cell_type": "code",
   "execution_count": null,
   "id": "92063481",
   "metadata": {},
   "outputs": [],
   "source": []
  }
 ],
 "metadata": {
  "kernelspec": {
   "display_name": "Python 3 (ipykernel)",
   "language": "python",
   "name": "python3"
  },
  "language_info": {
   "codemirror_mode": {
    "name": "ipython",
    "version": 3
   },
   "file_extension": ".py",
   "mimetype": "text/x-python",
   "name": "python",
   "nbconvert_exporter": "python",
   "pygments_lexer": "ipython3",
   "version": "3.11.5"
  }
 },
 "nbformat": 4,
 "nbformat_minor": 5
}
